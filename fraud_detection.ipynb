{
 "cells": [
  {
   "cell_type": "markdown",
   "id": "f6d17eec-0101-4979-9233-429f2b9b479a",
   "metadata": {},
   "source": [
    " ## 1. Import the libraries"
   ]
  },
  {
   "cell_type": "code",
   "execution_count": null,
   "id": "e95627d0-2c53-4c9e-8fa5-aa024ce3049e",
   "metadata": {},
   "outputs": [],
   "source": [
    "import pandas as pd \n",
    "import numpy as np \n",
    "from sklearn.model_selection import train_test_split, cross_val_score\n",
    "from sklearn.preprocessing import StandardScaler\n",
    "from sklearn.ensemble import RandomForestClassifier\n",
    "from sklearn.metrics import confusion_matrix,classification_report,roc_curve, auc \n",
    "import seaborn as sns \n",
    "import matplotlib.pyplot as plt \n"
   ]
  },
  {
   "cell_type": "markdown",
   "id": "1b179f84-8180-47ed-8993-e437b33bbd3f",
   "metadata": {},
   "source": [
    "## 2. Load and Explore the data"
   ]
  },
  {
   "cell_type": "code",
   "execution_count": null,
   "id": "74905e74-a4e3-44ba-87d7-a36caf344132",
   "metadata": {},
   "outputs": [],
   "source": [
    "df = pd.read_csv('creditcard.csv')\n",
    "df.info()\n",
    "df.head()"
   ]
  },
  {
   "cell_type": "markdown",
   "id": "8b265455-b069-4acb-b774-5892636d4d10",
   "metadata": {},
   "source": [
    "## 3. Prepare Features and Labels"
   ]
  },
  {
   "cell_type": "code",
   "execution_count": null,
   "id": "1e1b3d58-3ab6-4142-8dc2-c93a113bb9ec",
   "metadata": {},
   "outputs": [],
   "source": [
    "x = df.drop(['Time','Amount','Class','id'], axis =1, errors='ignore')\n",
    "y = df['Class']\n"
   ]
  },
  {
   "cell_type": "markdown",
   "id": "87ee7c24-965b-4b37-9ceb-bc2a176a7368",
   "metadata": {},
   "source": [
    "## 4. Split the dataset "
   ]
  },
  {
   "cell_type": "code",
   "execution_count": null,
   "id": "0673e84b-a290-4687-9f66-bb0c54ff9ba7",
   "metadata": {},
   "outputs": [],
   "source": [
    "x_train, x_test, y_train, y_test = train_test_split(x,y,test_size=0.2,random_state=42)"
   ]
  },
  {
   "cell_type": "markdown",
   "id": "55f8ddb0-1f91-439c-a0a4-3acd638e8909",
   "metadata": {},
   "source": [
    "## 5. Scale the Features"
   ]
  },
  {
   "cell_type": "code",
   "execution_count": null,
   "id": "11601caa-4cc1-48e2-8960-2518a6a1d472",
   "metadata": {},
   "outputs": [],
   "source": [
    "scaler = StandardScaler()\n",
    "x_train_scaled = scaler.fit_transform(x_train)\n",
    "x_test_scaled = scaler.transform(x_test)"
   ]
  },
  {
   "cell_type": "markdown",
   "id": "6ae5bcf2-a02b-48f0-abcf-57ace7a46c5e",
   "metadata": {},
   "source": [
    "## 6. Check the class distribution"
   ]
  },
  {
   "cell_type": "code",
   "execution_count": null,
   "id": "3658cb45-7d9a-4401-8d10-f82a91865622",
   "metadata": {},
   "outputs": [],
   "source": [
    "print(pd.Series(y_train).value_counts(normalize=True))\n"
   ]
  },
  {
   "cell_type": "markdown",
   "id": "370ce510-65bf-454a-9927-fc03a6da6136",
   "metadata": {},
   "source": [
    "## 7. Build and Train the model using the Random Forest Model"
   ]
  },
  {
   "cell_type": "code",
   "execution_count": null,
   "id": "c2f4afc6-ab17-48e0-914e-fa5cfecbff6e",
   "metadata": {},
   "outputs": [],
   "source": [
    "rf_model = RandomForestClassifier(\n",
    "    n_estimators=10, # number of trees in our forrest\n",
    "    max_depth=10, # number of depth of each tree\n",
    "    min_samples_split=2, # number of minimum samples required to split\n",
    "    random_state=42 # to reproduce the same 'randomness'\n",
    ")\n",
    "\n",
    "cv_scores = cross_val_score(rf_model,x_train_scaled,y_train,cv=5,scoring='f1')\n",
    "rf_model.fit(x_train_scaled, y_train)"
   ]
  },
  {
   "cell_type": "markdown",
   "id": "7cc48307-5e0a-4f34-bcdc-af778f4b7bdb",
   "metadata": {},
   "source": [
    "## 8. Make Predictions and evaluate "
   ]
  },
  {
   "cell_type": "code",
   "execution_count": null,
   "id": "63caed6e-8d03-4cc0-9988-23b8dee91e3d",
   "metadata": {},
   "outputs": [],
   "source": [
    "y_pred = rf_model.predict(x_test_scaled)\n",
    "print(classification_report(y_test, y_pred))"
   ]
  },
  {
   "cell_type": "markdown",
   "id": "94294f62-8605-4568-8434-885f09c77e03",
   "metadata": {},
   "source": [
    "## 9. Plot the confusion matrix"
   ]
  },
  {
   "cell_type": "code",
   "execution_count": null,
   "id": "ad0be62c-b35d-439b-8dc5-7ad1acb7aac1",
   "metadata": {},
   "outputs": [],
   "source": [
    "plt.figure(figsize=(8,6))\n",
    "cm = confusion_matrix(y_test,y_pred)\n",
    "sns.heatmap(cm,annot=True,fmt='d',cmap='Blues')\n",
    "plt.title('Confusion Matrix')\n",
    "plt.ylabel('True Label')\n",
    "plt.xlabel('Predicted Label')\n",
    "plt.show()"
   ]
  },
  {
   "cell_type": "markdown",
   "id": "919cb4a3-42dc-4cc3-a5f0-6a1503633d3d",
   "metadata": {},
   "source": [
    "## 10. Plot the Feature Importance "
   ]
  },
  {
   "cell_type": "code",
   "execution_count": null,
   "id": "29c4b485-20ff-4c77-9c55-c29db5e00f7e",
   "metadata": {},
   "outputs": [],
   "source": [
    "importance = rf_model.feature_importances_\n",
    "feature_imp = pd.DataFrame({\n",
    "    'Feature':x.columns,\n",
    "    'Importance': importance\n",
    "}).sort_values('Importance',ascending=False)\n",
    "\n",
    "plt.figure(figsize=(10,6))\n",
    "sns.barplot(data = feature_imp,x='Importance', y = 'Feature')\n",
    "plt.xlabel('Importance Score')\n",
    "plt.tight_layout()\n",
    "plt.show()"
   ]
  },
  {
   "cell_type": "markdown",
   "id": "68d9a8bb-935c-4bf0-9a70-ec70da3ea8a1",
   "metadata": {},
   "source": [
    "## 11. Plot the Correlation Matrix "
   ]
  },
  {
   "cell_type": "code",
   "execution_count": null,
   "id": "0ba0c9b1-8328-46f5-9fdc-4c656fe98801",
   "metadata": {},
   "outputs": [],
   "source": [
    "plt.figure(figsize=(12,8))\n",
    "correlation_matrix=x.corr()\n",
    "sns.heatmap(correlation_matrix,cmap = 'coolwarm',center=0,annot=True,fmt='.2f') #center is \n",
    "plt.title('Feature Correlation Matric')\n",
    "plt.tight_layout()\n",
    "plt.show()"
   ]
  },
  {
   "cell_type": "markdown",
   "id": "b531ac29-882e-42c9-b330-43d4ca61576a",
   "metadata": {},
   "source": [
    "## 12. Plot the Reciever Operations Characteristics Curve"
   ]
  },
  {
   "cell_type": "code",
   "execution_count": null,
   "id": "26dc7eb4-4021-437e-a6e3-ece914244c4f",
   "metadata": {},
   "outputs": [],
   "source": [
    "y_pred_proba = rf_model.predict_proba(x_test_scaled)[:,1]\n",
    "fpr,tpr, _ = roc_curve(y_test, y_pred_proba)\n",
    "roc_auc = auc(fpr,tpr)\n",
    "\n",
    "#Viuslising the roc curve \n",
    "\n",
    "plt.figure(figsize=(8,6))\n",
    "plt.plot(fpr,tpr,color='darkorange',lw=2, label = f'ROC curve  (AUC = {roc_auc:.2f})')\n",
    "plt.plot([0,1],[0,1],color = 'navy', lw=2, linestyle='--')\n",
    "\n",
    "plt.xlim([0.0,1.0])\n",
    "plt.ylim([0.0,1.05])\n",
    "plt.xlabel('False Positive Rate')\n",
    "plt.ylabel('True Positive Rate')\n",
    "\n",
    "plt.title('Reciever Operating Characteristics (ROC) Curve')\n",
    "plt.legend(loc='lower right')\n",
    "plt.show()"
   ]
  }
 ],
 "metadata": {
  "kernelspec": {
   "display_name": "Python [conda env:base] *",
   "language": "python",
   "name": "conda-base-py"
  },
  "language_info": {
   "codemirror_mode": {
    "name": "ipython",
    "version": 3
   },
   "file_extension": ".py",
   "mimetype": "text/x-python",
   "name": "python",
   "nbconvert_exporter": "python",
   "pygments_lexer": "ipython3",
   "version": "3.12.7"
  }
 },
 "nbformat": 4,
 "nbformat_minor": 5
}
